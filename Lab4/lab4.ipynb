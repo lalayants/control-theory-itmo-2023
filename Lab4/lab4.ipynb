{
 "cells": [
  {
   "cell_type": "markdown",
   "metadata": {},
   "source": [
    "Кирилл Лалаянц, R33352"
   ]
  },
  {
   "cell_type": "markdown",
   "metadata": {},
   "source": [
    "# Лабораторная работа No4\n",
    "## Астатизмы"
   ]
  },
  {
   "cell_type": "markdown",
   "metadata": {},
   "source": [
    "Импорт необходимых для работы библиотек. "
   ]
  },
  {
   "cell_type": "code",
   "execution_count": null,
   "metadata": {},
   "outputs": [],
   "source": [
    "import matplotlib.pyplot as plt\n",
    "import numpy as np\n",
    "import control \n",
    "import sympy\n",
    "import os\n",
    "from tbcontrol.symbolic import routh\n",
    "import math\n",
    "import tqdm\n",
    "\n",
    "SAVE_PATH = 'tex-report/figs/'\n",
    "os.makedirs(SAVE_PATH, exist_ok=True)\n",
    "\n",
    "sympy.init_printing()\n",
    "p = sympy.Symbol(\"p\")\n",
    "s = sympy.Symbol(\"s\")\n",
    "t = sympy.Symbol(\"t\")\n",
    "T = sympy.Symbol(\"T\")\n",
    "\n",
    "\n",
    "def get_t(end_t = 10, dt=0.001, start_t = 0):\n",
    "    return np.linspace(start_t, end_t, int(end_t / dt))"
   ]
  },
  {
   "cell_type": "markdown",
   "metadata": {},
   "source": [
    "Task 1"
   ]
  },
  {
   "cell_type": "code",
   "execution_count": null,
   "metadata": {},
   "outputs": [],
   "source": [
    "def task1_tf(m1, m2):\n",
    "    poly = sympy.simplify((p - m1) * (p - m2))\n",
    "    coeffs = sympy.Poly(poly, p).all_coeffs()\n",
    "    ss = control.tf2ss(control.tf(1, np.array(coeffs, dtype=np.float64)))\n",
    "    ss_reachable = control.canonical_form(ss, form=\"reachable\")[0]\n",
    "    return ss_reachable\n",
    "\n",
    "def task1_simulate(m1, m2, k0, k1, ts, dt, gs, y0=2, closed_loop=True):\n",
    "    TF = task1_tf(m1, m2)\n",
    "    u = lambda e, de: k0 * e + k1 * de\n",
    "    ys = [y0]\n",
    "    dys = [0]\n",
    "    es = [gs[0] - ys[0]]\n",
    "    des = [0]\n",
    "    us = []\n",
    "    for indx, t in enumerate(ts):\n",
    "        if indx < 1:\n",
    "            continue\n",
    "        \n",
    "        us.append(u(es[-1], des[-1]))\n",
    "        output = control.forced_response(TF, T=[t, t + dt], U=us[-1], X0=[dys[-1], ys[-1]])\n",
    "        \n",
    "        ys.append(output.outputs[-1])\n",
    "        dys.append((ys[-1] - ys[-2]) / dt)\n",
    "        if closed_loop:\n",
    "            es.append(gs[indx] - ys[-1])\n",
    "            des.append((es[-1] - es[-2]) / dt)\n",
    "    ys = np.array(ys)\n",
    "    us = np.array(us)\n",
    "    gs = np.array(gs)\n",
    "    dys = np.array(dys)\n",
    "    des = np.array(des)\n",
    "    es = np.array(es)\n",
    "    return ys, (es, gs, us, dys, des)\n",
    "  "
   ]
  },
  {
   "cell_type": "code",
   "execution_count": null,
   "metadata": {},
   "outputs": [],
   "source": [
    "dt = 0.001\n",
    "m1, m2 = -1, 2\n",
    "\n",
    "ts = get_t(10, dt=dt)\n",
    "k0, k1 = 1000, 4\n",
    "g = lambda t: 0 + 0 * t\n",
    "\n",
    "task1_ys, _ = task1_simulate(m1, m2, k0, k1, ts, dt, g(ts))\n",
    "plt.plot(ts[:len(task1_ys)], task1_ys, label = 'y')\n",
    "plt.legend()\n",
    "plt.grid()"
   ]
  },
  {
   "cell_type": "markdown",
   "metadata": {},
   "source": [
    "Task 2"
   ]
  },
  {
   "cell_type": "code",
   "execution_count": null,
   "metadata": {},
   "outputs": [],
   "source": [
    "def task2_tfd(T):\n",
    "    return control.tf([1, 0], [T, 1])\n",
    "\n",
    "def task2_simulate_TF(m1, m2, T, k0, k1, ts, gs, y0=2):\n",
    "    TF = task1_tf(m1, m2)\n",
    "    TFd = task2_tfd(T)\n",
    "    PD = k0 + k1 * TFd\n",
    "    system = control.feedback(PD * TF, 1, -1)\n",
    "    system_reachable = control.canonical_form(control.tf2ss(system), form=\"reachable\")[0]\n",
    "    X0 = np.linalg.pinv(system_reachable.C) * [y0]\n",
    "    return control.forced_response(system_reachable, ts, U = gs, X0 = X0).outputs"
   ]
  },
  {
   "cell_type": "code",
   "execution_count": null,
   "metadata": {},
   "outputs": [],
   "source": [
    "W = 1 / sympy.simplify((s - m1) * (s - m2))\n",
    "dW = s / (T * s + 1)\n",
    "open_loop_sympy = (k0 + k1 * dW) * W\n",
    "closed_loop_sympy = (open_loop_sympy / (1 + open_loop_sympy)).simplify()\n",
    "denum = sympy.fraction(closed_loop_sympy)[1]\n",
    "routh_matrix = routh(sympy.Poly(denum, s))\n",
    "sympy.solve([e > 0 for e in routh_matrix[:, 0]], T, rational=True, simplify=True)"
   ]
  },
  {
   "cell_type": "code",
   "execution_count": null,
   "metadata": {},
   "outputs": [],
   "source": [
    "-3 / 1996 - np.sqrt(11985) / 1996, -3 / 1996 + np.sqrt(11985) / 1996"
   ]
  },
  {
   "cell_type": "code",
   "execution_count": null,
   "metadata": {},
   "outputs": [],
   "source": [
    "T = 10**-6\n",
    "task2_r = task2_simulate_TF(m1, m2, T, k0, k1, ts, g(ts))\n",
    "plt.plot(ts, task2_r, label = 'y')\n",
    "plt.legend()\n",
    "plt.grid()"
   ]
  },
  {
   "cell_type": "markdown",
   "metadata": {},
   "source": [
    "Task 3"
   ]
  },
  {
   "cell_type": "code",
   "execution_count": null,
   "metadata": {},
   "outputs": [],
   "source": [
    "def fftnoise(f):\n",
    "    f = np.array(f, dtype='complex')\n",
    "    Np = (len(f) - 1) // 2\n",
    "    phases = np.random.rand(Np) * 2 * np.pi\n",
    "    phases = np.cos(phases) + 1j * np.sin(phases)\n",
    "    f[1:Np+1] *= phases\n",
    "    f[-1:-1-Np:-1] = np.conj(f[1:Np+1])\n",
    "    return np.fft.ifft(f).real\n",
    "\n",
    "def band_limited_noise(min_freq, max_freq, samples=1024, samplerate=1):\n",
    "    freqs = np.abs(np.fft.fftfreq(samples, 1/samplerate))\n",
    "    f = np.zeros(samples)\n",
    "    idx = np.where(np.logical_and(freqs>=min_freq, freqs<=max_freq))[0]\n",
    "    f[idx] = 1\n",
    "    return fftnoise(f)\n",
    "\n",
    "noise = band_limited_noise(0, len(ts), len(ts), len(ts))"
   ]
  },
  {
   "cell_type": "code",
   "execution_count": null,
   "metadata": {},
   "outputs": [],
   "source": [
    "task1_ys_noise, _ = task1_simulate(m1, m2, k0, k1, ts, dt, g(ts) + noise)\n",
    "plt.plot(ts[:len(task1_ys)], task1_ys, label = 'y')\n",
    "plt.plot(ts[:len(task1_ys_noise)], task1_ys_noise, label = 'y')\n",
    "plt.legend()\n",
    "plt.grid()\n",
    "np.sum((task1_ys_noise - task1_ys)**2)"
   ]
  },
  {
   "cell_type": "code",
   "execution_count": null,
   "metadata": {},
   "outputs": [],
   "source": [
    "task2_r_noise = task2_simulate_TF(m1, m2, T, k0, k1, ts, g(ts) + noise)\n",
    "plt.plot(ts[:len(task2_r)], task2_r, label = 'y')\n",
    "plt.plot(ts[:len(task2_r_noise)], task2_r_noise, label = 'y')\n",
    "plt.legend()\n",
    "plt.grid()\n",
    "np.sum((task2_r_noise - task2_r)**2)"
   ]
  },
  {
   "cell_type": "markdown",
   "metadata": {},
   "source": [
    "Task 4"
   ]
  },
  {
   "cell_type": "code",
   "execution_count": null,
   "metadata": {},
   "outputs": [],
   "source": [
    "dt = 0.001\n",
    "\n",
    "ts = get_t(10, dt=dt)\n",
    "\n",
    "def get_limit(K, t4_b1, t4_b0, t4_a1, t4_a0):\n",
    "    b1, b0, a1, a0, k, t = sympy.symbols('b1 b0 a1 a0 k t')\n",
    "    u = 2 \n",
    "    U = sympy.laplace_transform(u, t, s)[0]\n",
    "    W_sympy = k * (b1 * s + b0) / (s**2 + a1*s + a0)\n",
    "    W_closed = W_sympy / (1 + W_sympy)\n",
    "\n",
    "\n",
    "    limit = (W_closed * U * s).subs({s:0, k:K, b1: t4_b1, b0: t4_b0, a1: t4_a1, a0: t4_a0})\n",
    "    return sympy.N(limit)\n"
   ]
  },
  {
   "cell_type": "code",
   "execution_count": null,
   "metadata": {},
   "outputs": [],
   "source": [
    "t4_b1, t4_b0 = 1, 1\n",
    "t4_a1, t4_a0 = 5, 6\n",
    "K = 10\n",
    "\n",
    "W = control.tf([t4_b1, t4_b0], [1, t4_a1, t4_a0])\n",
    "W_open = K * W\n",
    "W_system = control.feedback(W_open, 1, -1)\n",
    "print(get_limit(K, t4_b1, t4_b0, t4_a1, t4_a0))\n",
    "u = lambda t: 2 + 0 * t\n",
    "y = control.forced_response(W_system, ts, u(ts)).outputs\n",
    "plt.plot(ts, y, label='y')\n",
    "plt.plot(ts, u(ts), label='e')\n",
    "plt.legend()"
   ]
  },
  {
   "cell_type": "code",
   "execution_count": null,
   "metadata": {},
   "outputs": [],
   "source": []
  }
 ],
 "metadata": {
  "kernelspec": {
   "display_name": "venv10",
   "language": "python",
   "name": "python3"
  },
  "language_info": {
   "codemirror_mode": {
    "name": "ipython",
    "version": 3
   },
   "file_extension": ".py",
   "mimetype": "text/x-python",
   "name": "python",
   "nbconvert_exporter": "python",
   "pygments_lexer": "ipython3",
   "version": "3.10.9"
  }
 },
 "nbformat": 4,
 "nbformat_minor": 2
}
