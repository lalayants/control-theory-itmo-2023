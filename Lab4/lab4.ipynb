{
 "cells": [
  {
   "cell_type": "markdown",
   "metadata": {},
   "source": [
    "Кирилл Лалаянц, R33352"
   ]
  },
  {
   "cell_type": "markdown",
   "metadata": {},
   "source": [
    "# Лабораторная работа No4\n",
    "## Астатизмы"
   ]
  },
  {
   "cell_type": "markdown",
   "metadata": {},
   "source": [
    "Импорт необходимых для работы библиотек. "
   ]
  },
  {
   "cell_type": "code",
   "execution_count": null,
   "metadata": {},
   "outputs": [],
   "source": [
    "import matplotlib.pyplot as plt\n",
    "import numpy as np\n",
    "import control \n",
    "import sympy\n",
    "import os\n",
    "import math\n",
    "\n",
    "SAVE_PATH = 'tex-report/figs/'\n",
    "os.makedirs(SAVE_PATH, exist_ok=True)\n",
    "\n",
    "sympy.init_printing()\n",
    "p = sympy.Symbol(\"p\")\n",
    "s = sympy.Symbol(\"s\")\n",
    "t = sympy.Symbol(\"t\")\n",
    "\n",
    "def get_t(end_t = 10, dt=0.001, start_t = 0):\n",
    "    return np.linspace(start_t, end_t, int(end_t / dt))"
   ]
  },
  {
   "cell_type": "markdown",
   "metadata": {},
   "source": [
    "1. Задание"
   ]
  },
  {
   "cell_type": "code",
   "execution_count": null,
   "metadata": {},
   "outputs": [],
   "source": [
    "def task1_tf(m1, m2):\n",
    "    poly = sympy.simplify((p - m1) * (p - m2))\n",
    "    print(poly.expand())\n",
    "    coeffs = sympy.Poly(poly, p).all_coeffs()\n",
    "    ss = control.tf2ss(control.tf(1, np.array(coeffs, dtype=np.float64)))\n",
    "    ss_reachable = control.canonical_form(ss, form=\"reachable\")[0]\n",
    "    return ss_reachable\n",
    "\n",
    "def task1_simulate(TF, ts, dt, g, u, closed_loop=True):\n",
    "    gs = g(ts)\n",
    "    ys = [1]\n",
    "    dys = [1]\n",
    "    es = [gs[0] - ys[0]]\n",
    "    des = [0]\n",
    "    us = []\n",
    "    for indx, t in enumerate(ts):\n",
    "        if indx < 1:\n",
    "            continue\n",
    "        # us.append(k0 * es[-1] + k1 * des[-1])\n",
    "        us.append(u(es[-1], des[-1]))\n",
    "        output = control.forced_response(TF, T=[t, t + dt], U=us[-1], X0=[dys[-1], ys[-1]])\n",
    "        \n",
    "        ys.append(output.outputs[-1])\n",
    "        dys.append((ys[-1] - ys[-2]) / dt)\n",
    "        if closed_loop:\n",
    "            es.append(gs[indx] - ys[-1])\n",
    "            des.append((es[-1] - es[-2]) / dt)\n",
    "    ys = np.array(ys)\n",
    "    us = np.array(us)\n",
    "    gs = np.array(gs)\n",
    "    dys = np.array(dys)\n",
    "    des = np.array(des)\n",
    "    es = np.array(es)\n",
    "    return (ys, es, gs, us, dys, des)\n",
    "  "
   ]
  },
  {
   "cell_type": "code",
   "execution_count": null,
   "metadata": {},
   "outputs": [],
   "source": [
    "dt = 0.001\n",
    "ts = get_t(10, dt=dt)\n",
    "TF = task1_tf(-1, 1)\n",
    "k0, k1 = 400, 2\n",
    "g = lambda t: -1 + 0 * t \n",
    "u = lambda e, de: k0 * e + k1 * de\n",
    "\n",
    "ys, es, gs, us, dys, des = task1_simulate(TF, ts, dt, g, u, closed_loop=False)\n",
    "plt.plot(ts[:len(ys)], ys, label = 'y')\n",
    "plt.plot(ts[:len(gs)], gs, label = 'goal')\n",
    "plt.plot(ts[:len(es)], es, label = 'error')\n",
    "plt.legend()\n",
    "plt.grid()"
   ]
  },
  {
   "cell_type": "code",
   "execution_count": null,
   "metadata": {},
   "outputs": [],
   "source": []
  }
 ],
 "metadata": {
  "kernelspec": {
   "display_name": "venv10",
   "language": "python",
   "name": "python3"
  },
  "language_info": {
   "codemirror_mode": {
    "name": "ipython",
    "version": 3
   },
   "file_extension": ".py",
   "mimetype": "text/x-python",
   "name": "python",
   "nbconvert_exporter": "python",
   "pygments_lexer": "ipython3",
   "version": "3.10.9"
  }
 },
 "nbformat": 4,
 "nbformat_minor": 2
}
