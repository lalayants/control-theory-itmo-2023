{
 "cells": [
  {
   "cell_type": "markdown",
   "metadata": {},
   "source": [
    "Кирилл Лалаянц, R33352"
   ]
  },
  {
   "cell_type": "markdown",
   "metadata": {},
   "source": [
    "# Лабораторная работа No5\n",
    "## Типовые динамические звенья"
   ]
  },
  {
   "cell_type": "markdown",
   "metadata": {},
   "source": [
    "Вариант 6"
   ]
  },
  {
   "cell_type": "markdown",
   "metadata": {},
   "source": [
    "Импорт необходимых для работы библиотек. "
   ]
  },
  {
   "cell_type": "code",
   "execution_count": null,
   "metadata": {},
   "outputs": [],
   "source": [
    "import matplotlib.pyplot as plt\n",
    "import numpy as np\n",
    "import control \n",
    "import sympy\n",
    "import os\n",
    "from tbcontrol.symbolic import routh\n",
    "import math\n",
    "import tqdm\n",
    "\n",
    "SAVE_PATH = 'tex-report/figs/'\n",
    "os.makedirs(SAVE_PATH, exist_ok=True)\n",
    "\n",
    "sympy.init_printing()\n",
    "p = sympy.Symbol(\"p\")\n",
    "s = sympy.Symbol(\"s\")\n",
    "t = sympy.Symbol(\"t\")\n",
    "w = sympy.Symbol(\"w\")\n",
    "I = sympy.I\n",
    "\n",
    "\n",
    "def get_t(end_t = 10, dt=0.001, start_t = 0):\n",
    "    return np.linspace(start_t, end_t, int(end_t / dt))"
   ]
  },
  {
   "cell_type": "markdown",
   "metadata": {},
   "source": [
    "## Task 1"
   ]
  },
  {
   "cell_type": "code",
   "execution_count": null,
   "metadata": {},
   "outputs": [],
   "source": [
    "def plot_bode(ss, theory_lambda, freqs, plot_name, save_name, fsize=40):\n",
    "    mag, phase, omega = control.bode(ss, freqs, plot=False)\n",
    "    freqs = np.array(freqs)\n",
    "    theory = theory_lambda(freqs)\n",
    "    mag_theory = np.absolute(theory)\n",
    "    phase_theory = np.angle(theory)\n",
    "    \n",
    "    \n",
    "    fig, axs = plt.subplots(2, 2, figsize=(20, 20))\n",
    "    fig.suptitle(plot_name, fontsize=fsize , y=0.95)\n",
    "    axs[0, 0].plot(omega, mag, linewidth=12, label='experiment')\n",
    "    axs[0, 0].plot(omega, mag_theory, 'r--', linewidth=4, label='theory')\n",
    "    axs[0, 0].set_title('AЧХ', fontsize=fsize)\n",
    "    axs[0, 0].grid(True)\n",
    "    axs[0, 0].set_xlabel(f\"Частота, [рад/c]\", fontsize=fsize // 2)\n",
    "    axs[0, 0].set_ylabel(f\"Амплитуда\", fontsize=fsize // 2)\n",
    "    axs[0, 0].tick_params(axis='both', which='major', labelsize=fsize // 2)\n",
    "    axs[0, 0].tick_params(axis='both', which='minor', labelsize=fsize // 2)\n",
    "    axs[0, 0].legend(fontsize=20)\n",
    "    \n",
    "    \n",
    "    axs[0, 1].plot(omega, phase, linewidth=12, label='experiment')\n",
    "    axs[0, 1].plot(omega, phase_theory, 'r--', linewidth=4, label='theory')\n",
    "    axs[0, 1].set_title('ФЧХ', fontsize=fsize)\n",
    "    axs[0, 1].grid(True)\n",
    "    axs[0, 1].set_xlabel(f\"Частота, [рад/c]\", fontsize=fsize // 2)\n",
    "    axs[0, 1].set_ylabel(f\"Фаза, [рад]\", fontsize=fsize // 2)\n",
    "    axs[0, 1].tick_params(axis='both', which='major', labelsize=fsize // 2)\n",
    "    axs[0, 1].tick_params(axis='both', which='minor', labelsize=fsize // 2)\n",
    "    axs[0, 1].legend(fontsize=20)    \n",
    "    \n",
    "    axs[1, 0].plot(omega, mag, linewidth=12, label='experiment')\n",
    "    axs[1, 0].plot(omega, mag_theory, 'r--', linewidth=4, label='theory')\n",
    "    axs[1, 0].set_title('ЛAЧХ', fontsize=fsize)\n",
    "    axs[1, 0].set_xscale('log')\n",
    "    axs[1, 0].set_yscale('log')\n",
    "    axs[1, 0].grid(True, which=\"both\", ls=\"-\", color='0.65')\n",
    "    axs[1, 0].set_xlabel(f\"Частота, [рад/c]\", fontsize=fsize // 2)\n",
    "    axs[1, 0].set_ylabel(f\"Амплитуда, [дБ]\", fontsize=fsize // 2)\n",
    "    axs[1, 0].tick_params(axis='both', which='major', labelsize=fsize // 2)\n",
    "    axs[1, 0].tick_params(axis='both', which='minor', labelsize=fsize // 2)  \n",
    "    axs[1, 0].legend(fontsize=20)  \n",
    "    \n",
    "    axs[1, 1].plot(omega, phase, linewidth=12, label='experiment')\n",
    "    axs[1, 1].plot(omega, phase_theory, 'r--', linewidth=4, label='theory')\n",
    "    axs[1, 1].set_title('ЛФЧХ', fontsize=fsize)\n",
    "    axs[1, 1].set_xscale('log')\n",
    "    axs[1, 1].grid(True, which=\"both\", ls=\"-\", color='0.65')\n",
    "    axs[1, 1].set_xlabel(f\"Частота, [рад/c]\", fontsize=fsize // 2)\n",
    "    axs[1, 1].set_ylabel(f\"Фаза, [рад]\", fontsize=fsize // 2)\n",
    "    axs[1, 1].tick_params(axis='both', which='major', labelsize=fsize // 2)\n",
    "    axs[1, 1].tick_params(axis='both', which='minor', labelsize=fsize // 2)\n",
    "    axs[1, 1].legend(fontsize=20)\n",
    "    \n",
    "    plt.savefig(f'{SAVE_PATH}/{save_name}.jpg') \n",
    "    \n",
    "def get_ss_and_theory(subs, sA, sB, sC, sD):\n",
    "    stf = (sC @ (sympy.diag([p] * 2, unpack=True) - sA).inv() @ sB + sD)[0]\n",
    "    wjw = stf.subs({p: I*w}).subs(subs)\n",
    "    theory = sympy.lambdify(w, wjw, 'numpy')\n",
    "    \n",
    "    sympy_to_numpy = lambda mat, subs: np.array(mat.subs(subs)).astype(np.float64)\n",
    "    A = sympy_to_numpy(sA, subs)\n",
    "    B = sympy_to_numpy(sB, subs)\n",
    "    C = sympy_to_numpy(sC, subs)\n",
    "    D = sympy_to_numpy(sD, subs)\n",
    "    \n",
    "    return control.ss(A, B, C, D), theory\n"
   ]
  },
  {
   "cell_type": "markdown",
   "metadata": {},
   "source": [
    "### 2. Brushed DC motor 2.0. (v3)"
   ]
  },
  {
   "cell_type": "code",
   "execution_count": null,
   "metadata": {},
   "outputs": [],
   "source": [
    "t2_K_M, t2_K_E, t2_J, t2_R, t2_L = 0.3612, 0.3612, 0.0031, 4.7237, 1.0567\n",
    "k_m, k_e, J, R, L = sympy.symbols('k_m k_e J R L')\n",
    "t2_subs = {k_m: t2_K_M, k_e: t2_K_E, J: t2_J, R: t2_R, L: t2_L}\n",
    "\n",
    "t2_sA = sympy.Matrix([[0, 1 / J], [-k_m * k_e / L, -R / L]])\n",
    "t2_sB = sympy.Matrix([0, k_m / L])\n",
    "t2_sC = sympy.Matrix([[1, 0]])\n",
    "t2_sD = sympy.Matrix([0])\n",
    "\n",
    "t2_ss, t2_theory = get_ss_and_theory(t2_subs, t2_sA, t2_sB, t2_sC, t2_sD)\n",
    "\n",
    "plot_bode(t2_ss, t2_theory, [i/10 for i in range(1000)], 'Brushed DC motor 2.0.', '1_2')"
   ]
  }
 ],
 "metadata": {
  "kernelspec": {
   "display_name": "venv10",
   "language": "python",
   "name": "python3"
  },
  "language_info": {
   "codemirror_mode": {
    "name": "ipython",
    "version": 3
   },
   "file_extension": ".py",
   "mimetype": "text/x-python",
   "name": "python",
   "nbconvert_exporter": "python",
   "pygments_lexer": "ipython3",
   "version": "3.10.9"
  }
 },
 "nbformat": 4,
 "nbformat_minor": 2
}
