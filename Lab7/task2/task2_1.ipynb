{
 "cells": [
  {
   "cell_type": "markdown",
   "metadata": {},
   "source": [
    "Модель двигателя: $\\ddot{\\theta} + \\frac{1}{T} \\dot{\\theta} = \\frac{k}{T} U$\n",
    "\n",
    "$$\n",
    "    s^2 \\Theta(s) + s \\frac{1}{T} \\Theta(s) = \\frac{k}{T} U(s)\n",
    "$$"
   ]
  },
  {
   "cell_type": "markdown",
   "metadata": {},
   "source": [
    "$$\n",
    "    \\Theta(s) = \\frac{k (k_p E)}{s (Ts + 1)}\n",
    "$$\n"
   ]
  },
  {
   "cell_type": "code",
   "execution_count": null,
   "metadata": {},
   "outputs": [],
   "source": [
    "import numpy as np\n",
    "import matplotlib.pyplot as plt\n",
    "import os\n",
    "import shutil\n",
    "import sympy\n",
    "\n",
    "DATA_PATH = \"../data/task2_1\"\n",
    "FILES = os.listdir(DATA_PATH)\n",
    "\n",
    "PLOT_PATH = \"figs\"\n",
    "if os.path.exists(PLOT_PATH):\n",
    "    shutil.rmtree(PLOT_PATH)\n",
    "os.makedirs(PLOT_PATH)"
   ]
  },
  {
   "cell_type": "code",
   "execution_count": null,
   "metadata": {},
   "outputs": [],
   "source": [
    "for file in FILES:\n",
    "    if 'linear' in file:\n",
    "        continue\n",
    "    data =  np.loadtxt(f\"{DATA_PATH}/{file}\", dtype=float)\n",
    "    time = data[:, 0]\n",
    "    kp = data[0, 1]\n",
    "    error = data[:, 2] * np.pi / 180\n",
    "    plt.plot(time, error, label=f'{kp}')\n",
    "    \n",
    "plt.title('Константное воздействие')\n",
    "plt.xlabel('t, c')\n",
    "plt.ylabel('error')\n",
    "plt.legend()"
   ]
  },
  {
   "cell_type": "code",
   "execution_count": null,
   "metadata": {},
   "outputs": [],
   "source": [
    "s, T, k, k_p = sympy.symbols('s T k k_p')\n",
    "k_mean, T_mean = 114.49, 0.077\n",
    "\n",
    "def get_limit(K_p):\n",
    "    G = 1 / s ** 2\n",
    "    W_sympy = k_p * k / (s * (T * s + 1))\n",
    "    W_closed = 1 / (1 + W_sympy)\n",
    "    limit = (W_closed * G * s).subs({T: T_mean, k: k_mean, k_p: K_p})\n",
    "    return float(sympy.N(sympy.limit(limit, s, 0)))"
   ]
  },
  {
   "cell_type": "code",
   "execution_count": null,
   "metadata": {},
   "outputs": [],
   "source": [
    "for file in FILES:\n",
    "    if not 'linear' in file:\n",
    "        continue\n",
    "    data =  np.loadtxt(f\"{DATA_PATH}/{file}\", dtype=float)\n",
    "    time = data[:, 0]\n",
    "    kp = data[0, 1]\n",
    "    error = data[:, 2] * np.pi / 180\n",
    "    plt.plot(time, error, label=f'{kp}, err limit = {get_limit(kp)}')\n",
    "    \n",
    "plt.title('Линейное воздействие')\n",
    "plt.xlabel('t, c')\n",
    "plt.ylabel('error')\n",
    "plt.legend()"
   ]
  },
  {
   "cell_type": "code",
   "execution_count": null,
   "metadata": {},
   "outputs": [],
   "source": []
  }
 ],
 "metadata": {
  "kernelspec": {
   "display_name": "control-theory-itmo",
   "language": "python",
   "name": "python3"
  },
  "language_info": {
   "codemirror_mode": {
    "name": "ipython",
    "version": 3
   },
   "file_extension": ".py",
   "mimetype": "text/x-python",
   "name": "python",
   "nbconvert_exporter": "python",
   "pygments_lexer": "ipython3",
   "version": "3.10.9"
  }
 },
 "nbformat": 4,
 "nbformat_minor": 2
}
