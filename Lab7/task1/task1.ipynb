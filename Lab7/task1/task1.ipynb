{
 "cells": [
  {
   "cell_type": "markdown",
   "metadata": {},
   "source": [
    "Модель двигателя: $\\ddot{\\theta} + \\frac{1}{T} \\dot{\\theta} = \\frac{k}{T} U$\n",
    "\n",
    "При нулевых начальных условиях, и входном воздействии $u$ (Step response) после преобразования Лапласа имеем:\n",
    "\n",
    "$$\n",
    "    s^2 \\Theta(s) + s \\frac{1}{T} \\Theta(s) = \\frac{k}{T} \\frac{U_0}{s}\n",
    "$$\n",
    "\n",
    "$$\n",
    "    \\Theta(s) = \\frac{k U_0}{s^2 (Ts + 1)}\n",
    "$$\n",
    "\n",
    "Разложим на слагаемые:\n",
    "\n",
    "$$\n",
    "    \\Theta(s) = \\frac{kU_0}{s^2} + \\frac{kU_0T^2}{Ts + 1} + \\frac{kU_0T}{s}\n",
    "$$\n",
    "\n",
    "Выполним обратное преобразрование Лапласа:\n",
    "\n",
    "$$\n",
    "    \\theta(t) = kU_0 \\cdot t + kU_0T \\cdot e^{-\\frac{1}{T} t} - kU_0T\n",
    "$$\n",
    "\n",
    "$$\n",
    "    \\theta(t) = kU_0(t - T \\cdot (1-e^{-\\frac{1}{T} t}))\n",
    "$$"
   ]
  },
  {
   "cell_type": "code",
   "execution_count": 3,
   "metadata": {},
   "outputs": [],
   "source": [
    "import numpy as np\n",
    "from scipy.optimize import least_squares\n",
    "import matplotlib.pyplot as plt\n",
    "import os\n",
    "import shutil\n",
    "\n",
    "DATA_PATH = \"../data/task1\"\n",
    "FILES = os.listdir(DATA_PATH)\n",
    "\n",
    "PLOT_PATH = \"figs\"\n",
    "if os.path.exists(PLOT_PATH):\n",
    "    shutil.rmtree(PLOT_PATH)\n",
    "os.makedirs(PLOT_PATH)"
   ]
  },
  {
   "cell_type": "code",
   "execution_count": 16,
   "metadata": {},
   "outputs": [],
   "source": [
    "def angle_optimization(x, angle, U_volts, time):\n",
    "    return angle - angle(x, U_volts, time)\n",
    "\n",
    "\n",
    "def angle(x, U_volts, time):\n",
    "    return U_volts * x[0] * (time - x[1] * (1 - np.exp(-time / x[1])))\n",
    "\n",
    "\n",
    "ks = []\n",
    "Ts = []"
   ]
  },
  {
   "cell_type": "code",
   "execution_count": null,
   "metadata": {},
   "outputs": [],
   "source": [
    "for file in FILES:\n",
    "    data =  np.loadtxt(f\"{DATA_PATH}/{file}\", dtype=float)\n",
    "    time = data[:, 0]\n",
    "    angle = data[:, 1] * np.pi / 180\n",
    "    speed = data[:, 2] * np.pi / 180 \n",
    "    u = data[:, 3] * data[:, 4]\n",
    "    \n",
    "    initial_guess = np.array([114.49, 0.077]) \n",
    "    \n",
    "    optimized_guess = least_squares(angle_optimization, initial_guess, args=(angle, u, time))\n",
    "    ks.append(optimized_guess.x[0])\n",
    "    Ts.append(optimized_guess.x[1])\n",
    "\n",
    "k_mean, T_mean = np.mean(ks), np.mean(Ts)\n",
    "k_mean, T_mean "
   ]
  },
  {
   "cell_type": "code",
   "execution_count": null,
   "metadata": {},
   "outputs": [],
   "source": [
    "for indx, file in enumerate(FILES):\n",
    "    data =  np.loadtxt(f\"{DATA_PATH}/{file}\", dtype=float)\n",
    "    time = data[:, 0]\n",
    "    angle = data[:, 1] * np.pi / 180\n",
    "    speed = data[:, 2] * np.pi / 180 \n",
    "    u = data[:, 3] * data[:, 4]\n",
    "    \n",
    "    angle_optimized = angle((ks[indx], Ts[indx]), u, time)\n",
    "    angle_optimized_mean = angle((k_mean, T_mean), u, time)\n",
    "    \n",
    "    angle_optimized_error = np.sum((angle_optimized - angle)**2)\n",
    "    angle_optimized_mean_error = np.sum((angle_optimized_mean - angle)**2)\n",
    "    \n",
    "    plt.plot(time, angle, 'r', label='Data')\n",
    "    plt.plot(time, angle_optimized, 'g--', label='Optimization')\n",
    "    plt.plot(time, angle_optimized_mean, 'b--', label='Optimization Mean')\n",
    "    \n",
    "    plt.title(f'U = {u: .2f}V; k, T = {optimized_guess[0]: .3f}, {optimized_guess[1]: .3f}\\n E = {angle_optimized_error: .2f}; E_mean = {angle_optimized_mean_error: .2f}')\n",
    "    plt.xlabel('t, c')\n",
    "    plt.ylabel('angle(t)')\n",
    "    plt.legend()\n",
    "    plt.imsave(f'{PLOT_PATH}/{u}.jpg')\n",
    "    plt.clf()"
   ]
  },
  {
   "cell_type": "code",
   "execution_count": null,
   "metadata": {},
   "outputs": [],
   "source": []
  }
 ],
 "metadata": {
  "kernelspec": {
   "display_name": "control-theory-itmo",
   "language": "python",
   "name": "python3"
  },
  "language_info": {
   "codemirror_mode": {
    "name": "ipython",
    "version": 3
   },
   "file_extension": ".py",
   "mimetype": "text/x-python",
   "name": "python",
   "nbconvert_exporter": "python",
   "pygments_lexer": "ipython3",
   "version": "3.10.9"
  }
 },
 "nbformat": 4,
 "nbformat_minor": 2
}
