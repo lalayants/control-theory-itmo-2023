{
 "cells": [
  {
   "cell_type": "markdown",
   "metadata": {},
   "source": [
    "Кирилл Лалаянц, R33352"
   ]
  },
  {
   "cell_type": "markdown",
   "metadata": {},
   "source": [
    "1. Правильно ли указывать, что y в м?\n",
    "2. вне зависимости от мод все системы при начале в 0 остаются в 0"
   ]
  },
  {
   "cell_type": "markdown",
   "metadata": {},
   "source": [
    "# Лабораторная работа No1 \n",
    "## Переходные процессы, свободное движение, устойчивость"
   ]
  },
  {
   "cell_type": "markdown",
   "metadata": {},
   "source": [
    "Импорт необходимых для работы библиотек. "
   ]
  },
  {
   "cell_type": "code",
   "execution_count": null,
   "metadata": {},
   "outputs": [],
   "source": [
    "import matplotlib.pyplot as plt\n",
    "import numpy as np\n",
    "import control \n",
    "import sympy\n",
    "import os\n",
    "\n",
    "SAVE_PATH = 'tex-report/figs/'\n",
    "os.makedirs(SAVE_PATH, exist_ok=True)\n",
    "\n",
    "sympy.init_printing()"
   ]
  },
  {
   "cell_type": "markdown",
   "metadata": {},
   "source": [
    "## Задание 1. Свободное движение."
   ]
  },
  {
   "cell_type": "code",
   "execution_count": null,
   "metadata": {},
   "outputs": [],
   "source": [
    "p = sympy.Symbol(\"p\")\n",
    "\n",
    "\n",
    "def task1_output(m1, m2, initial_value, ts, plot_name, save_name):\n",
    "    poly = sympy.simplify((p - m1) * (p - m2))\n",
    "    coeffs = sympy.Poly(poly, p).all_coeffs()\n",
    "    print(f'Polynom: {poly} = {poly.expand()}; coeffs = {coeffs}')\n",
    "    \n",
    "    ss = control.tf2ss(control.tf(1, np.array(coeffs, dtype=np.float64)))\n",
    "    ss_reachable = control.canonical_form(ss, form=\"reachable\")[0]\n",
    "    print(f\"SS: {ss_reachable}\")\n",
    "\n",
    "    tf2_y_0_0 = control.forced_response(ss_reachable, U=0, X0=[0, 0], T=ts)\n",
    "    tf2_y_1_1 = control.forced_response(ss_reachable, U=0, X0=initial_value, T=ts)\n",
    "    plot_task1(tf2_y_0_0, tf2_y_1_1, initial_value, ts, plot_name, save_name)\n",
    "    \n",
    "\n",
    "def plot_task1(tf2_y_0_0, tf2_y_1_1, initial_value, ts, plot_name, save_name):\n",
    "    # Построение графиков\n",
    "    fig, axs = plt.subplots(1, 2, figsize=(25, 7.5))\n",
    "    fig.suptitle(f\"Задание 1. Свободное движение. \\n {plot_name}\", fontsize=20)\n",
    "\n",
    "    axs[0].plot(ts, tf2_y_0_0.outputs, 'b', label = '(0, 0) - начальные условия')\n",
    "    axs[0].plot(ts, tf2_y_1_1.outputs, 'r--', label = f'{initial_value} - начальные условия')\n",
    "    axs[0].set_title(f\"y = y(t)\", fontsize=20)\n",
    "    axs[0].set_xlabel(f\"t, [c]\", fontsize=20)\n",
    "    axs[0].set_ylabel(f\"y, [м]\", fontsize=20)\n",
    "    axs[0].grid(True)\n",
    "    axs[0].legend(prop={'size': 20})\n",
    "    \n",
    "    axs[1].plot(ts, tf2_y_0_0.states[0], \"b\", label = '(0, 0) - начальные условия')\n",
    "    axs[1].plot(ts, tf2_y_1_1.states[0], \"r--\", label = f'{initial_value} - начальные условия')\n",
    "    axs[1].set_title(r\"$\\dot{y} = \\dot{y}(t)$\", fontsize=20)\n",
    "    axs[1].set_xlabel(f\"t, [c]\", fontsize=20)\n",
    "    axs[1].set_ylabel(r\"$\\dot{y}$, [м / с]\", fontsize=20)\n",
    "    axs[1].grid(True)\n",
    "    axs[1].legend(prop={'size': 20})\n",
    "    \n",
    "    plt.savefig(f'{SAVE_PATH}/{save_name}')\n",
    "    plt.show()\n",
    "    "
   ]
  },
  {
   "cell_type": "markdown",
   "metadata": {},
   "source": [
    "2. устойчивой и неустойчивой апериодическим модам;"
   ]
  },
  {
   "cell_type": "code",
   "execution_count": null,
   "metadata": {},
   "outputs": [],
   "source": [
    "dt = 0.001 \n",
    "max_t = 1 \n",
    "ts = np.linspace(0, max_t, int(max_t / dt))\n",
    "\n",
    "m20, m21 = -1, 1\n",
    "initial_value = [0.15, 0.1]\n",
    "task1_output(m20, m21, initial_value, ts, plot_name = f'Устойчивая и неустойчивая апериодические моды {m20, m21}.', save_name = 'task1_2.jpg')"
   ]
  },
  {
   "cell_type": "markdown",
   "metadata": {},
   "source": [
    "4. нейтральной и неустойчивой апериодической модам;"
   ]
  },
  {
   "cell_type": "code",
   "execution_count": null,
   "metadata": {},
   "outputs": [],
   "source": [
    "dt = 0.001 \n",
    "max_t = 10\n",
    "ts = np.linspace(0, max_t, int(max_t / dt))\n",
    "m40, m41 = 0, 1\n",
    "\n",
    "initial_value = [0.15, 0.1]\n",
    "task1_output(m40, m41, initial_value, ts, plot_name = f'Нейтральная и неустойчивая апериодические моды {m40, m41}.', save_name = 'task1_4.jpg')"
   ]
  },
  {
   "cell_type": "markdown",
   "metadata": {},
   "source": [
    "6. паре консервативных мод;"
   ]
  },
  {
   "cell_type": "code",
   "execution_count": null,
   "metadata": {},
   "outputs": [],
   "source": [
    "dt = 0.001 \n",
    "max_t = 10\n",
    "ts = np.linspace(0, max_t, int(max_t / dt))\n",
    "\n",
    "m60, m61 = - sympy.I, sympy.I\n",
    "initial_value = [0.15, 0.1]\n",
    "task1_output(m60, m61, initial_value, ts, plot_name = f'Пара консервативных мод {m60, m61}.', save_name = 'task1_6.jpg')"
   ]
  },
  {
   "cell_type": "markdown",
   "metadata": {},
   "source": [
    "## Задание 2. Область устойчивости."
   ]
  },
  {
   "cell_type": "code",
   "execution_count": null,
   "metadata": {},
   "outputs": [],
   "source": [
    "K, T1, T2 = sympy.symbols(\"K,T1,T2\")\n",
    "TF1s = 1/(p*T1 + 1)\n",
    "TF2s = 1/(p*T2 + 1)\n",
    "TF3s = 1 / p\n",
    "T_mains = TF1s * TF2s * TF3s * K \n",
    "T_feedbacks = 1\n",
    "\n",
    "Ts = T_mains / (1 + T_mains * T_feedbacks)\n",
    "Ts = sympy.simplify(Ts).expand()\n",
    "Ts_num, Ts_denum = sympy.fraction(Ts)\n",
    "Ts_denum_coeffs = (sympy.Poly(Ts_denum/ (T1 * T2), p)).all_coeffs()\n",
    "equations = [Ts_denum_coeffs[1] > 0, \\\n",
    "    Ts_denum_coeffs[2] > 0, \\\n",
    "    Ts_denum_coeffs[3] > 0, \\\n",
    "    Ts_denum_coeffs[1] * Ts_denum_coeffs[2] > Ts_denum_coeffs[3]]\n",
    "equations"
   ]
  },
  {
   "cell_type": "markdown",
   "metadata": {},
   "source": [
    "T2 = -1 \\\n",
    "solve -(-1+x)/x > 0 and 1/-x > 0 and y/-x > 0 and (-1 + x) / -x > y"
   ]
  },
  {
   "cell_type": "code",
   "execution_count": null,
   "metadata": {},
   "outputs": [],
   "source": [
    "# Решений нет!"
   ]
  },
  {
   "cell_type": "markdown",
   "metadata": {},
   "source": [
    "T1 = 1 \\\n",
    "solve (1+x)/x > 0 and 1/x > 0 and y/x > 0 and (1 + x) / x > y"
   ]
  },
  {
   "cell_type": "code",
   "execution_count": null,
   "metadata": {},
   "outputs": [],
   "source": [
    "T2 = np.linspace(0, 5)\n",
    "K = (T2 + 1) / T2\n",
    "\n",
    "plt.figure(figsize=(12.5, 7.5))\n",
    "plt.plot(T2, K, 'r--', label = 'Граница устойчивости')\n",
    "plt.fill_between(T2, K, 0, label = 'Зона устойчивости')\n",
    "plt.legend()\n",
    "plt.title(\"Задание 2. Зависимость устойчивости от $K$ и $T2$\", fontsize=20)\n",
    "plt.xlabel(\"$T_2$\", fontsize=20)\n",
    "plt.ylabel(\"$K$\", fontsize=20)\n",
    "plt.grid(True)\n",
    "plt.legend(prop={'size': 20})\n",
    "plt.savefig(f'{SAVE_PATH}/task2_T2_K.jpg')"
   ]
  },
  {
   "cell_type": "code",
   "execution_count": null,
   "metadata": {},
   "outputs": [],
   "source": [
    "def task2_get_TF(T1, T2, K):\n",
    "    TF1 = control.tf([1], [T1, 1])\n",
    "    TF2 = control.tf([1], [T2, 1])\n",
    "    TF3 = control.tf([1], [1, 0])\n",
    "\n",
    "    TF_main = K * TF1 * TF2 * TF3\n",
    "    TF_feedback = control.tf([1], [1])\n",
    "\n",
    "    ss = control.tf2ss(control.feedback(TF_main, TF_feedback))\n",
    "    ss_reachable = control.canonical_form(ss, form=\"reachable\")[0]\n",
    "    \n",
    "    return ss_reachable\n",
    "\n",
    "def task2_show_TF(T1, T2, K, save_name, plot_name, ts, U = 1, initial_value=[0, 0, 0]):\n",
    "    tf_y = control.forced_response(task2_get_TF(T1, T2, K), U=1, X0=[1, 1, 1], T=ts).outputs\n",
    "    plt.figure(figsize=(12.5, 7.5))\n",
    "    plt.plot(ts, tf_y, label = 'Результат моделирования')\n",
    "    plt.legend()\n",
    "    plt.title(plot_name, fontsize=20)\n",
    "    plt.xlabel(\"$t, [c]$\", fontsize=20)\n",
    "    plt.ylabel(\"y\", fontsize=20)\n",
    "    plt.grid(True)\n",
    "    plt.legend(prop={'size': 20})\n",
    "    plt.savefig(f'{SAVE_PATH}/{save_name}')\n",
    "    plt.show()"
   ]
  },
  {
   "cell_type": "code",
   "execution_count": null,
   "metadata": {},
   "outputs": [],
   "source": [
    "dt = 0.001 \n",
    "max_t = 100\n",
    "ts = np.linspace(0, max_t, int(max_t / dt))\n",
    "T1, T2 = 1, 4\n",
    "K = 1.25\n",
    "\n",
    "task2_show_TF(T1, T2, K, \"task2_conservative.jpg\", f\"Задание 2. Граница устойчивости \\n T1 = {T1}; T2 = {T2}; K = {K};\", ts, U = 1, initial_value=[0, 0, 0])"
   ]
  },
  {
   "cell_type": "code",
   "execution_count": null,
   "metadata": {},
   "outputs": [],
   "source": [
    "dt = 0.001 \n",
    "max_t = 100\n",
    "ts = np.linspace(0, max_t, int(max_t / dt))\n",
    "T1, T2 = 1, 4\n",
    "K = 4\n",
    "\n",
    "task2_show_TF(T1, T2, K, \"task2_not_stable.jpg\", f\"Задание 2. Неустойчивая система \\n T1 = {T1}; T2 = {T2}; K = {K};\", ts, U = 1, initial_value=[0, 0, 0])"
   ]
  },
  {
   "cell_type": "code",
   "execution_count": null,
   "metadata": {},
   "outputs": [],
   "source": [
    "dt = 0.001 \n",
    "max_t = 100\n",
    "ts = np.linspace(0, max_t, int(max_t / dt))\n",
    "T1, T2 = 1, 4\n",
    "K = 0.1\n",
    "\n",
    "task2_show_TF(T1, T2, K, \"task2_stable.jpg\", f\"Задание 2. Устойчивая система \\n T1 = {T1}; T2 = {T2}; K = {K};\", ts, U = 1, initial_value=[0, 0, 0])"
   ]
  },
  {
   "cell_type": "markdown",
   "metadata": {},
   "source": [
    "## Задание 3. Автономный генератор."
   ]
  },
  {
   "cell_type": "code",
   "execution_count": null,
   "metadata": {},
   "outputs": [],
   "source": [
    "task2_f = lambda x: np.cos(5*x) + np.exp(x) + np.exp(-5 * x)\n",
    "task2_ff = lambda x:  np.exp(x) + np.exp(-5 * x)\n",
    "task2_fff = lambda x:  np.cos(5*x) + np.sin(5*x) + np.exp(x) + np.exp(-5 * x)"
   ]
  },
  {
   "cell_type": "code",
   "execution_count": null,
   "metadata": {},
   "outputs": [],
   "source": [
    "dt = 0.001 \n",
    "max_t = 10\n",
    "ff_c, fff_c = 0, 0\n",
    "for max_t in range(1, 500):\n",
    "    ts = np.linspace(0, max_t, int(max_t / dt))\n",
    "\n",
    "    f = task2_f(ts)\n",
    "    ff =  task2_ff(ts)\n",
    "    fff = task2_fff(ts)\n",
    "    # plt.plot(ts, f)\n",
    "    # plt.plot(ts, ff)\n",
    "    # plt.plot(ts, fff)\n",
    "    # plt.show()\n",
    "\n",
    "\n",
    "    if np.sum((fff-f)**2) / np.sum((ff-f)**2) > 1:\n",
    "        ff_c += 1\n",
    "    else:\n",
    "        fff_c += 1\n",
    "ff_c, fff_c"
   ]
  },
  {
   "cell_type": "code",
   "execution_count": null,
   "metadata": {},
   "outputs": [],
   "source": []
  }
 ],
 "metadata": {
  "kernelspec": {
   "display_name": "venv10",
   "language": "python",
   "name": "python3"
  },
  "language_info": {
   "codemirror_mode": {
    "name": "ipython",
    "version": 3
   },
   "file_extension": ".py",
   "mimetype": "text/x-python",
   "name": "python",
   "nbconvert_exporter": "python",
   "pygments_lexer": "ipython3",
   "version": "3.10.9"
  }
 },
 "nbformat": 4,
 "nbformat_minor": 2
}
