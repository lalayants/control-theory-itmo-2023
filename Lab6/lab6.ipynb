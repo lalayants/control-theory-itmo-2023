{
 "cells": [
  {
   "cell_type": "markdown",
   "metadata": {},
   "source": [
    "Кирилл Лалаянц, R33352"
   ]
  },
  {
   "cell_type": "markdown",
   "metadata": {},
   "source": [
    "# Лабораторная работа No6\n",
    "## Критерий Найквиста и системы с запаздыванием"
   ]
  },
  {
   "cell_type": "markdown",
   "metadata": {},
   "source": [
    "Вариант 6"
   ]
  },
  {
   "cell_type": "markdown",
   "metadata": {},
   "source": [
    "Импорт необходимых для работы библиотек. "
   ]
  },
  {
   "cell_type": "code",
   "execution_count": null,
   "metadata": {},
   "outputs": [],
   "source": [
    "import matplotlib.pyplot as plt\n",
    "import numpy as np\n",
    "import control \n",
    "import sympy\n",
    "import os\n",
    "\n",
    "SAVE_PATH = 'tex-report/figs/'\n",
    "os.makedirs(SAVE_PATH, exist_ok=True)\n",
    "\n",
    "sympy.init_printing()\n",
    "p = sympy.Symbol(\"p\")\n",
    "s = sympy.Symbol(\"s\")\n",
    "t = sympy.Symbol(\"t\")\n",
    "w = sympy.Symbol(\"w\")\n",
    "I = sympy.I\n",
    "\n",
    "\n",
    "def get_t(end_t = 10, dt=0.001, start_t = 0):\n",
    "    return np.linspace(start_t, end_t, int(end_t / dt))"
   ]
  },
  {
   "cell_type": "markdown",
   "metadata": {},
   "source": [
    "## Task 1"
   ]
  },
  {
   "cell_type": "code",
   "execution_count": null,
   "metadata": {},
   "outputs": [],
   "source": [
    "def task1_get_tf(open_roots, closed_roots):\n",
    "    open_denum = closed_denum = 1\n",
    "    for open_root, closed_root in zip(open_roots, closed_roots):\n",
    "        open_denum *= s - open_root\n",
    "        closed_denum *= s - closed_root\n",
    "        \n",
    "    open_num = (closed_denum - open_denum).simplify()\n",
    "\n",
    "    W = open_num.simplify() / open_denum.simplify()\n",
    "    print(f'Open loop: {sympy.latex(W.simplify())}')\n",
    "    print(f'Closed loop: {sympy.latex((W / (1 + W)).simplify())}')\n",
    "    tf_open = control.tf(np.array(sympy.Poly(open_num).all_coeffs(), dtype=np.float64), np.array(sympy.Poly(open_denum).all_coeffs(), dtype=np.float64))\n",
    "    tf_closed = control.feedback(tf_open)\n",
    "    return tf_open, tf_closed\n",
    "\n",
    "\n",
    "def add_arrow(line, position=None, direction='right', size=65, color=None):\n",
    "    \"\"\"\n",
    "    add an arrow to a line.\n",
    "\n",
    "    line:       Line2D object\n",
    "    position:   x-position of the arrow. If None, mean of xdata is taken\n",
    "    direction:  'left' or 'right'\n",
    "    size:       size of the arrow in fontsize points\n",
    "    color:      if None, line color is taken.\n",
    "    \"\"\"\n",
    "    if color is None:\n",
    "        color = line.get_color()\n",
    "\n",
    "    xdata = line.get_xdata()\n",
    "    ydata = line.get_ydata()\n",
    "\n",
    "    if position is None:\n",
    "        position = xdata.mean()\n",
    "    # find closest index\n",
    "    start_ind = np.argmin(np.absolute(xdata - position))\n",
    "    if direction == 'right':\n",
    "        end_ind = start_ind + 1\n",
    "    else:\n",
    "        end_ind = start_ind - 1\n",
    "\n",
    "    line.axes.annotate('',\n",
    "        xytext=(xdata[start_ind], ydata[start_ind]),\n",
    "        xy=(xdata[end_ind], ydata[end_ind]),\n",
    "        arrowprops=dict(arrowstyle=\"->\", color=color),\n",
    "        size=size\n",
    "    )\n",
    "\n",
    "def get_tf_and_plot(open_roots, closed_roots, save_name, fsize=50):\n",
    "    tf_open, tf_closed = task1_get_tf(open_roots, closed_roots)\n",
    "    count, contour = control.nyquist(tf_open, return_contour=True, plot=True)\n",
    "    print(f'Nyquist count: {count}')\n",
    "    plt.title(f'Loop count: {count}')\n",
    "    plt.savefig(f'{SAVE_PATH}/task1_{save_name}_nyquist.jpg') \n",
    "    \n",
    "    fig, ax = plt.subplots(1, 2, figsize=(20, 8))\n",
    "    ax[0].scatter(open_roots.real, open_roots.imag, color = 'red', s=100)\n",
    "    ax[0].grid()\n",
    "    ax[0].set_title('Open loop roots', fontsize=fsize // 2)    \n",
    "    ax[1].scatter(closed_roots.real, closed_roots.imag, color = 'red', s=100)\n",
    "    ax[1].grid()\n",
    "    ax[1].set_title('Closed loop roots', fontsize=fsize // 2)   \n",
    "    ax[0].set_xlabel('Imag', fontsize=fsize // 2)\n",
    "    ax[0].set_ylabel('Real', fontsize=fsize // 2)\n",
    "    ax[1].set_xlabel('Imag', fontsize=fsize // 2)\n",
    "    ax[1].set_ylabel('Real', fontsize=fsize // 2)\n",
    "    plt.savefig(f'{SAVE_PATH}/task1_{save_name}_roots.jpg') \n",
    "    \n",
    "    fig, ax = plt.subplots(1, 2, figsize=(20, 8))\n",
    "    ts = get_t()\n",
    "    ax[0].plot(ts, control.step_response(tf_open, ts).outputs, color = 'red', linewidth=6)\n",
    "    ax[0].grid()\n",
    "    ax[0].set_title('Open loop step', fontsize=fsize // 2)    \n",
    "    ax[1].plot(ts, control.step_response(tf_closed, ts).outputs, color = 'red', linewidth=6)\n",
    "    ax[1].grid()\n",
    "    ax[1].set_title('Closed loop step', fontsize=fsize // 2)   \n",
    "    ax[0].tick_params(axis='both', which='major', labelsize=fsize // 3)\n",
    "    ax[1].tick_params(axis='both', which='major', labelsize=fsize // 3)\n",
    "    ax[0].tick_params(axis='both', which='minor', labelsize=fsize // 3)\n",
    "    ax[1].tick_params(axis='both', which='minor', labelsize=fsize // 3)\n",
    "    ax[0].set_xlabel('t', fontsize=fsize // 2)\n",
    "    ax[0].set_ylabel('y', fontsize=fsize // 2)\n",
    "    ax[1].set_xlabel('t', fontsize=fsize // 2)\n",
    "    ax[1].set_ylabel('y', fontsize=fsize // 2)\n",
    "    plt.savefig(f'{SAVE_PATH}/task1_{save_name}_steps.jpg') "
   ]
  },
  {
   "cell_type": "code",
   "execution_count": null,
   "metadata": {},
   "outputs": [],
   "source": [
    "open_roots = np.array([-1, 2, 3, 4 + 1j, 4 - 1j])\n",
    "closed_roots = np.array([-1, -2, 3, 4, 5])\n",
    "get_tf_and_plot(open_roots, closed_roots, '1')"
   ]
  },
  {
   "cell_type": "code",
   "execution_count": null,
   "metadata": {},
   "outputs": [],
   "source": [
    "open_roots = np.array([-1, -2, -3, -4 + 1j, -4 - 1j])\n",
    "closed_roots = np.array([-1, -2, 3, 4, 5])\n",
    "get_tf_and_plot(open_roots, closed_roots, '2')"
   ]
  },
  {
   "cell_type": "code",
   "execution_count": null,
   "metadata": {},
   "outputs": [],
   "source": [
    "open_roots = np.array([-1, 2, 3, 4 + 1j, 4 - 1j])\n",
    "closed_roots = np.array([-1, -2, -3, -4, -5])\n",
    "get_tf_and_plot(open_roots, closed_roots, '3')"
   ]
  },
  {
   "cell_type": "markdown",
   "metadata": {},
   "source": [
    "## Task2"
   ]
  },
  {
   "cell_type": "code",
   "execution_count": null,
   "metadata": {},
   "outputs": [],
   "source": []
  }
 ],
 "metadata": {
  "kernelspec": {
   "display_name": "venv10",
   "language": "python",
   "name": "python3"
  },
  "language_info": {
   "codemirror_mode": {
    "name": "ipython",
    "version": 3
   },
   "file_extension": ".py",
   "mimetype": "text/x-python",
   "name": "python",
   "nbconvert_exporter": "python",
   "pygments_lexer": "ipython3",
   "version": "3.10.9"
  }
 },
 "nbformat": 4,
 "nbformat_minor": 2
}
